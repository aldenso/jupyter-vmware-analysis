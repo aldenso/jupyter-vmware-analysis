{
 "cells": [
  {
   "cell_type": "code",
   "execution_count": null,
   "metadata": {},
   "outputs": [],
   "source": [
    "import pandas as pd\n",
    "from pandas.plotting import table\n",
    "import pandas_profiling\n",
    "# next line not in first line to avoid warning with pandas_profiling\n",
    "%matplotlib inline\n",
    "import matplotlib.pyplot as plt\n",
    "from IPython.display import display, Markdown, HTML\n",
    "from ipywidgets import widgets\n",
    "from utils import human_size, selectdata, nextall, ExplorersSelection\n",
    "from IPython.core.interactiveshell import InteractiveShell\n",
    "InteractiveShell.ast_node_interactivity = \"all\""
   ]
  },
  {
   "cell_type": "code",
   "execution_count": null,
   "metadata": {},
   "outputs": [],
   "source": [
    "explorers=selectdata(\"/tmp/datavmware\")\n",
    "f = ExplorersSelection('RVTools_tabvInfo.csv', explorers)\n",
    "f.widget()\n",
    "continueall = widgets.Button(description=\"Continue\", button_style='success')\n",
    "continueall.on_click(nextall)\n",
    "display(continueall)"
   ]
  },
  {
   "cell_type": "code",
   "execution_count": null,
   "metadata": {},
   "outputs": [],
   "source": [
    "InteractiveShell.ast_node_interactivity = \"last_expr\""
   ]
  },
  {
   "cell_type": "code",
   "execution_count": null,
   "metadata": {},
   "outputs": [],
   "source": [
    "VMFILE = f.selected_explorers\n",
    "dataraw = pd.read_csv(VMFILE, encoding=\"ISO-8859-1\")\n",
    "dataraw.columns"
   ]
  },
  {
   "cell_type": "code",
   "execution_count": null,
   "metadata": {
    "scrolled": false
   },
   "outputs": [],
   "source": [
    "df4profile = dataraw[['Powerstate', 'CPUs', 'Memory', 'NICs', 'Disks', 'Provisioned MB',\n",
    "                      'In Use MB', 'Unshared MB', 'HA Restart Priority', 'OS according to the configuration file',\n",
    "                      'OS according to the VMware Tools']]\n",
    "pandas_profiling.ProfileReport(df4profile)"
   ]
  },
  {
   "cell_type": "markdown",
   "metadata": {},
   "source": [
    "### Get VMs (Not templates) not running"
   ]
  },
  {
   "cell_type": "code",
   "execution_count": null,
   "metadata": {},
   "outputs": [],
   "source": [
    "usage = dataraw[['VM', 'Template', 'Guest state', 'Provisioned MB', 'In Use MB', 'Disks']]"
   ]
  },
  {
   "cell_type": "code",
   "execution_count": null,
   "metadata": {},
   "outputs": [],
   "source": [
    "usagefilter1 = usage[usage['Guest state'] == \"notRunning\"]\n",
    "usagefilter2 = usagefilter1[usagefilter1['Template'] == False].copy()\n",
    "usagetotal = usagefilter2.copy()\n",
    "usagefilter2['Provisioned MB'] = usagefilter2['Provisioned MB'].map(human_size)\n",
    "usagefilter2['In Use MB'] = usagefilter2['In Use MB'].map(human_size)\n",
    "usagefilter2"
   ]
  },
  {
   "cell_type": "markdown",
   "metadata": {},
   "source": [
    "### Total space used by Not Running VMs"
   ]
  },
  {
   "cell_type": "code",
   "execution_count": null,
   "metadata": {},
   "outputs": [],
   "source": [
    "usagetotal[['Provisioned MB', 'In Use MB']].sum().apply(human_size)"
   ]
  },
  {
   "cell_type": "code",
   "execution_count": null,
   "metadata": {},
   "outputs": [],
   "source": [
    "display(Markdown(\"#### Total VMs not running: {}\".format(usagetotal['VM'].count())))"
   ]
  },
  {
   "cell_type": "code",
   "execution_count": null,
   "metadata": {},
   "outputs": [],
   "source": [
    "usagetotal[['VM', 'Disks']]"
   ]
  },
  {
   "cell_type": "markdown",
   "metadata": {},
   "source": [
    "### Get VM by OS"
   ]
  },
  {
   "cell_type": "code",
   "execution_count": null,
   "metadata": {},
   "outputs": [],
   "source": [
    "vmos = dataraw[['VM', 'OS according to the configuration file']]\n",
    "vmos[['VM', 'OS according to the configuration file']].groupby('OS according to the configuration file').count()"
   ]
  },
  {
   "cell_type": "code",
   "execution_count": null,
   "metadata": {},
   "outputs": [],
   "source": [
    "vmlinux = vmos[['VM', 'OS according to the configuration file']]\n",
    "vmlinux = vmlinux[vmlinux['OS according to the configuration file'].fillna(\"Unknown\").str.contains('Linux')].VM.count()\n",
    "vmwindows = vmos[['VM', 'OS according to the configuration file']]\n",
    "vmwindows = vmwindows[vmwindows['OS according to the configuration file'].fillna(\"Unknown\").str.contains('Microsoft')].VM.count()\n",
    "vmtotal = vmos[['VM', 'OS according to the configuration file']].VM.count()\n",
    "\n",
    "for ostype in zip([vmlinux, vmwindows, vmtotal], ['VM linux', 'VM Windows', 'VM Total']):\n",
    "    display(Markdown(\"#### {}: {}\".format(ostype[1], ostype[0])))"
   ]
  },
  {
   "cell_type": "code",
   "execution_count": null,
   "metadata": {},
   "outputs": [],
   "source": [
    "vms = pd.DataFrame([vmlinux, vmwindows], ['VM linux', 'VM Windows'])\n",
    "vms.columns = ['VMs']\n",
    "vms.plot.pie(figsize=(7, 7), y=0, legend=False)"
   ]
  },
  {
   "cell_type": "code",
   "execution_count": null,
   "metadata": {},
   "outputs": [],
   "source": [
    "vmosgroups = dataraw[['VM', 'OS according to the configuration file']]\n",
    "vmosgroups.groupby('OS according to the configuration file').count().plot.pie(figsize=(12, 12),y=0)\n",
    "plt.legend(loc=\"best\", bbox_to_anchor=(0.0, 0.45))"
   ]
  }
 ],
 "metadata": {
  "kernelspec": {
   "display_name": "Python 3",
   "language": "python",
   "name": "python3"
  },
  "language_info": {
   "codemirror_mode": {
    "name": "ipython",
    "version": 3
   },
   "file_extension": ".py",
   "mimetype": "text/x-python",
   "name": "python",
   "nbconvert_exporter": "python",
   "pygments_lexer": "ipython3",
   "version": "3.6.4"
  }
 },
 "nbformat": 4,
 "nbformat_minor": 2
}
